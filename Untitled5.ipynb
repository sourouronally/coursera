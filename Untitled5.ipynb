{
  "metadata": {
    "language_info": {
      "name": ""
    },
    "kernelspec": {
      "name": "",
      "display_name": ""
    }
  },
  "nbformat_minor": 4,
  "nbformat": 4,
  "cells": [
    {
      "cell_type": "markdown",
      "source": " title of the notebook",
      "metadata": {}
    },
    {
      "cell_type": "markdown",
      "source": "INTRODUCTION : \n\nData science is the art of extracting valuable insights from data. It involves collecting, cleaning, and analyzing data to uncover patterns, trends, and correlations that can inform decision-making. By using statistical techniques, machine learning algorithms, and visualization tools, data scientists unravel hidden information within datasets, enabling businesses to make more informed choices, improve processes, and innovate in various fields.",
      "metadata": {}
    },
    {
      "cell_type": "markdown",
      "source": " data science languages:\nPython: Known for its versatility and rich libraries like Pandas and scikit-learn, it's widely used for data manipulation and machine learning.\n\nR: Specialized for statistical analysis and visualization, R offers packages like ggplot2 and dplyr, ideal for exploratory data analysis.\n\nSQL: Essential for managing databases and querying data, crucial for data extraction and manipulation in data science.",
      "metadata": {}
    },
    {
      "cell_type": "markdown",
      "source": "Pandas\nNumPy\nMatplotlib\nscikit-learn\nTensorFlow\nPyTorch\nSeaborn\nNLTK",
      "metadata": {}
    },
    {
      "cell_type": "code",
      "source": "| Category             | Tools                                   |\n|----------------------|-----------------------------------------|\n| Data Manipulation    | Pandas, dplyr, SQL, Apache Spark        |\n| Visualization        | Matplotlib, ggplot2, Tableau, Seaborn   |\n| Machine Learning     | scikit-learn, TensorFlow, PyTorch, Keras |\n| Big Data             | Hadoop, Spark, Kafka, Cassandra         |\n| Statistical Analysis | R, SAS, SPSS, STATA                     |\n| Data Cleaning        | OpenRefine, Trifacta, Dataiku           |\n| Notebooks            | Jupyter, Google Colab, RStudio          |\n| Database             | MySQL, PostgreSQL, MongoDB, SQLite      |\n",
      "metadata": {},
      "execution_count": null,
      "outputs": []
    },
    {
      "cell_type": "markdown",
      "source": "## Arithmetic Expression Examples\n\nArithmetic expressions in programming involve mathematical operations like addition, subtraction, multiplication, and division. Here are some examples:\n\n- **Addition:** Adding numbers together, for instance: `2 + 3 = 5`\n- **Subtraction:** Subtracting one number from another, for example: `7 - 4 = 3`\n- **Multiplication:** Multiplying numbers, such as: `5 * 6 = 30`\n- **Division:** Dividing numbers, like: `10 / 2 = 5`\n\nThese basic arithmetic operations form the foundation of more complex calculations and are fundamental in programming and data analysis.\n",
      "metadata": {}
    },
    {
      "cell_type": "code",
      "source": "# Multiplication\nresult_multiply = 5 * 8\nprint(\"Multiplication result:\", result_multiply)\n\n# Addition\nresult_addition = 10 + 15\nprint(\"Addition result:\", result_addition)\n",
      "metadata": {},
      "execution_count": null,
      "outputs": []
    },
    {
      "cell_type": "code",
      "source": "# Given minutes\nminutes = 120\n\n# Convert minutes to hours\nhours = minutes / 60\n\n# Display the result\nprint(f\"{minutes} minutes is equal to {hours} hours\")\n",
      "metadata": {},
      "execution_count": null,
      "outputs": []
    },
    {
      "cell_type": "code",
      "source": "## Objectives\n\n- Understand basic arithmetic operations in Python.\n- Perform multiplication and addition of numbers.\n- Convert units, such as minutes to hours, using Python calculations.\n- Learn to use Python code cells in Jupyter notebooks for simple calculations and conversions.\n",
      "metadata": {},
      "execution_count": null,
      "outputs": []
    },
    {
      "cell_type": "markdown",
      "source": "Author :\nSourour Onally",
      "metadata": {}
    }
  ]
}